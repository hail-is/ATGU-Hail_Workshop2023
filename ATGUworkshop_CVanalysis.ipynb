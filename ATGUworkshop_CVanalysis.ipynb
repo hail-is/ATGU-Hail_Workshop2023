{
 "cells": [
  {
   "cell_type": "markdown",
   "metadata": {
    "id": "b2ZLXkpI2HWg"
   },
   "source": [
    "# ATGU Workshop -- Common Variant Analysis\n",
    "\n",
    "In this section, we are learning how to \n",
    "\n",
    "1) Use simple python code  and Jupyter notebook\n",
    "\n",
    "2) Setting Hail up in your environment\n",
    "\n",
    "3) Simple descriptive analysis with Hail\n",
    "\n",
    "4) Common variant analysis with Hail"
   ]
  },
  {
   "cell_type": "markdown",
   "metadata": {
    "id": "Sx7o-bnD2HWk"
   },
   "source": [
    "# Hail on Jupyter\n",
    "\n",
    "Part of what we think is so exciting about Hail is that it has coincided with a larger shift in the data science community.\n",
    "\n",
    "Three years ago, most computational biologists at Broad analyzed genetic data using command-line tools, and took advantage of research compute clusters by explicitly using scheduling frameworks like LSF or Sun Grid Engine.\n",
    "\n",
    "Now, they have the option to use Hail in interactive Python notebooks backed by thousands of cores on public compute clouds like [Google Cloud](https://cloud.google.com/), [Amazon Web Services](https://aws.amazon.com/), or [Microsoft Azure](https://azure.microsoft.com/)."
   ]
  },
  {
   "cell_type": "markdown",
   "metadata": {
    "id": "ocuxZ_3e2HWk"
   },
   "source": [
    "# Using Jupyter\n",
    "### Running cells\n",
    "Evaluate cells using SHIFT + ENTER. Select the next cell and run it"
   ]
  },
  {
   "cell_type": "code",
   "execution_count": 1,
   "metadata": {
    "id": "ZnEt92YH2HWl"
   },
   "outputs": [
    {
     "name": "stdout",
     "output_type": "stream",
     "text": [
      "Hello, world\n"
     ]
    }
   ],
   "source": [
    "print('Hello, world')"
   ]
  },
  {
   "cell_type": "markdown",
   "metadata": {
    "id": "0j_rmUA12HWm"
   },
   "source": [
    "### Modes\n",
    "\n",
    "Jupyter has two modes, a **navigation mode** and an **editor mode**.\n",
    "\n",
    "#### Navigation mode:\n",
    "\n",
    " - <font color=\"blue\"><strong>BLUE</strong></font> cell borders\n",
    " - `UP` / `DOWN` move between cells\n",
    " - `ENTER` while a cell is selected will move to **editing mode**.\n",
    " - Many letters are keyboard shortcuts! This is a common trap.\n",
    " \n",
    "#### Editor mode:\n",
    "\n",
    " - <font color=\"green\"><strong>GREEN</strong></font> cell borders\n",
    " - `UP` / `DOWN`/ move within cells before moving between cells.\n",
    " - `ESC` will return to **navigation mode**.\n",
    " - `SHIFT + ENTER` will evaluate a cell and return to **navigation mode**."
   ]
  },
  {
   "cell_type": "markdown",
   "metadata": {
    "id": "dxX7Q4Lf2HWn"
   },
   "source": [
    "### Cell types\n",
    "\n",
    "There are several types of cells in Jupyter notebooks. The two you will see here are **Markdown** (text) and **Code**."
   ]
  },
  {
   "cell_type": "code",
   "execution_count": 2,
   "metadata": {
    "id": "HZeg5rIs2HWn"
   },
   "outputs": [],
   "source": [
    "# This is a code cell\n",
    "my_variable = 5"
   ]
  },
  {
   "cell_type": "markdown",
   "metadata": {
    "id": "4JbQKECC2HWn"
   },
   "source": [
    "**This is a markdown cell**, so even if something looks like code (as below), it won't get executed!\n",
    "\n",
    "my_variable += 1"
   ]
  },
  {
   "cell_type": "markdown",
   "metadata": {
    "id": "8V-outvX2HWo"
   },
   "source": [
    "### Tips and tricks\n",
    "\n",
    "Keyboard shortcuts:\n",
    "\n",
    " - `SHIFT + ENTER` to evaluate a cell\n",
    " - `ESC` to return to navigation mode\n",
    " - `y` to turn a markdown cell into code\n",
    " - `m` to turn a code cell into markdown\n",
    " - `a` to add a new cell **above** the currently selected cell\n",
    " - `b` to add a new cell **below** the currently selected cell\n",
    " - `d, d` (repeated) to delete the currently selected cell\n",
    " - `TAB` to activate code completion\n",
    " \n",
    "To try this out, create a new cell below this one using `b`, and print `my_variable` by starting with `print(my` and pressing `TAB`!"
   ]
  },
  {
   "cell_type": "markdown",
   "metadata": {
    "id": "vPT2kWS52HWo"
   },
   "source": [
    "# Set up our Python environment"
   ]
  },
  {
   "cell_type": "markdown",
   "metadata": {
    "id": "IYlOkKa32HWo"
   },
   "source": [
    "In addition to Hail, we import a few methods from the Hail plotting library. We'll see examples soon!\n",
    "For further installation instructions, please visit our Getting Started page (https://hail.is/docs/0.2/getting_started.html)"
   ]
  },
  {
   "cell_type": "code",
   "execution_count": 3,
   "metadata": {
    "id": "28n357cb2HWp"
   },
   "outputs": [],
   "source": [
    "import hail as hl"
   ]
  },
  {
   "cell_type": "markdown",
   "metadata": {
    "id": "ovsvZjDc2HWq"
   },
   "source": [
    "The demonstration materials are designed to work on a small (~20MB) downsampled chunk of the public 1000 Genomes dataset.\n"
   ]
  },
  {
   "cell_type": "markdown",
   "metadata": {},
   "source": [
    "It is possible to call command-line utilities from Jupyter by prefixing a line with a !:"
   ]
  },
  {
   "cell_type": "code",
   "execution_count": 4,
   "metadata": {},
   "outputs": [
    {
     "name": "stdout",
     "output_type": "stream",
     "text": [
      "\u001b[31m1kg.fam\u001b[m\u001b[m*\n",
      "\u001b[34m1kg.mt\u001b[m\u001b[m/\n",
      "\u001b[31m1kg.vcf.bgz\u001b[m\u001b[m*\n",
      "\u001b[31m1kg_annotations.txt\u001b[m\u001b[m*\n",
      "\u001b[34mpca_scores.ht\u001b[m\u001b[m/\n",
      "\u001b[34mpost_qc.mt\u001b[m\u001b[m/\n",
      "\u001b[34msample_qc.ht\u001b[m\u001b[m/\n",
      "\u001b[31mtrue_pops.txt\u001b[m\u001b[m*\n"
     ]
    }
   ],
   "source": [
    "! ls -1 resources/"
   ]
  },
  {
   "cell_type": "markdown",
   "metadata": {
    "id": "qiuZdHBh2HWr"
   },
   "source": [
    "# Explore genetic data with Hail\n",
    "\n",
    "#### Learning Objectives:\n",
    "\n",
    "- To be comfortable exploring Hail data structures.\n",
    "- To understand categories of functionality for performing QC."
   ]
  },
  {
   "cell_type": "markdown",
   "metadata": {
    "id": "4ZcuYadK2HWr"
   },
   "source": [
    "### Import data from VCF\n",
    "\n",
    "The [Variant Call Format (VCF)](https://en.wikipedia.org/wiki/Variant_Call_Format) is a common file format for representing genetic data collected on multiple individuals (samples).\n",
    "\n",
    "Hail's [import_vcf](https://hail.is/docs/0.2/methods/impex.html#hail.methods.import_vcf) function can read this format.\n",
    "\n",
    "However, VCF is a text format that is easy for humans to read, but very inefficient to process on a computer. \n",
    "\n",
    "The first thing we do is import (`import_vcf`) and convert the `VCF` file into a Hail native file format. This is done by using the `write` method below. The resulting file is **much** faster to process because it is scalable and easily parallelizable.\n",
    "\n",
    "Let's read in a chunk of data, specifically from 1000 Genomes"
   ]
  },
  {
   "cell_type": "code",
   "execution_count": 5,
   "metadata": {},
   "outputs": [],
   "source": [
    "YOUR_BUCKET = ..."
   ]
  },
  {
   "cell_type": "code",
   "execution_count": 6,
   "metadata": {},
   "outputs": [
    {
     "name": "stderr",
     "output_type": "stream",
     "text": [
      "Initializing Hail with default parameters...\n",
      "SLF4J: No SLF4J providers were found.\n",
      "SLF4J: Defaulting to no-operation (NOP) logger implementation\n",
      "SLF4J: See https://www.slf4j.org/codes.html#noProviders for further details.\n",
      "SLF4J: Class path contains SLF4J bindings targeting slf4j-api versions 1.7.x or earlier.\n",
      "SLF4J: Ignoring binding found at [jar:file:/Users/pschulz/opt/anaconda3/lib/python3.9/site-packages/pyspark/jars/log4j-slf4j-impl-2.17.2.jar!/org/slf4j/impl/StaticLoggerBinder.class]\n",
      "SLF4J: See https://www.slf4j.org/codes.html#ignoredBindings for an explanation.\n",
      "Setting default log level to \"WARN\".\n",
      "To adjust logging level use sc.setLogLevel(newLevel). For SparkR, use setLogLevel(newLevel).\n",
      "Running on Apache Spark version 3.3.2\n",
      "SparkUI available at http://10.0.0.135:4041\n",
      "Welcome to\n",
      "     __  __     <>__\n",
      "    / /_/ /__  __/ /\n",
      "   / __  / _ `/ / /\n",
      "  /_/ /_/\\_,_/_/_/   version 0.2.121-7fb600840651\n",
      "LOGGING: writing to /Users/pschulz/Downloads/ATGU-Hail_Workshop2020-master/hail-20230911-1432-0.2.121-7fb600840651.log\n",
      "2023-09-11 14:32:46.250 Hail: INFO: scanning VCF for sortedness...\n",
      "2023-09-11 14:32:50.187 Hail: INFO: Coerced sorted VCF - no additional import work to do\n",
      "2023-09-11 14:32:52.515 Hail: INFO: wrote matrix table with 13033 rows and 343 columns in 4 partitions to resources/1kg.mt\n"
     ]
    }
   ],
   "source": [
    "hl.import_vcf('resources/1kg.vcf.bgz', min_partitions=4).write('resources/1kg.mt', overwrite=True)"
   ]
  },
  {
   "cell_type": "markdown",
   "metadata": {
    "id": "IOLnfZo12HWs"
   },
   "source": [
    "### Read 1KG into Hail\n",
    "\n",
    "We represent genetic data as a Hail [`MatrixTable`](https://hail.is/docs/0.2/overview/matrix_table.html), and name our variable `mt` to indicate this."
   ]
  },
  {
   "cell_type": "code",
   "execution_count": 7,
   "metadata": {
    "id": "3MriLJfL2HWs"
   },
   "outputs": [],
   "source": [
    "mt = hl.read_matrix_table('resources/1kg.mt')"
   ]
  },
  {
   "cell_type": "markdown",
   "metadata": {
    "id": "Q21BJa6v2HWs"
   },
   "source": [
    "### What is a `MatrixTable`?\n",
    "\n",
    "Let's explore it!\n",
    "\n",
    "You can see:\n",
    " - **numeric** types:\n",
    "     - integers (`int32`, `int64`), e.g. `5`\n",
    "     - floating point numbers (`float32`, `float64`), e.g. `5.5` or `3e-8`\n",
    " - **strings** (`str`), e.g. `\"Foo\"`\n",
    " - **boolean** values  (`bool`) e.g. `True`\n",
    " - **collections**:\n",
    "     - arrays (`array`), e.g. `[1,1,2,3]`\n",
    "     - sets (`set`), e.g. `{1,3}`\n",
    "     - dictionaries (`dict`), e.g. `{'Foo': 5, 'Bar': 10}`\n",
    " - **genetic data types**:\n",
    "     - loci (`locus`), e.g. `[GRCh37] 1:10000` or `[GRCh38] chr1:10024`\n",
    "     - genotype calls (`call`), e.g. `0/2` or `1|0`"
   ]
  },
  {
   "cell_type": "code",
   "execution_count": 8,
   "metadata": {
    "id": "HEmBWeR62HWt"
   },
   "outputs": [
    {
     "data": {
      "application/vnd.jupyter.widget-view+json": {
       "model_id": "d3706edc4cb04104aef9bee1441a3dd8",
       "version_major": 2,
       "version_minor": 0
      },
      "text/plain": [
       "VBox(children=(HBox(children=(Button(description='globals', layout=Layout(height='30px', width='65px'), style=…"
      ]
     },
     "metadata": {},
     "output_type": "display_data"
    },
    {
     "data": {
      "application/vnd.jupyter.widget-view+json": {
       "model_id": "cd41fc81b05b41598847b7f3ecfa85b6",
       "version_major": 2,
       "version_minor": 0
      },
      "text/plain": [
       "Tab(children=(VBox(children=(HTML(value='<p><big>Global fields, with one value in the dataset.</big></p>\\n<p>C…"
      ]
     },
     "metadata": {},
     "output_type": "display_data"
    }
   ],
   "source": [
    "mt.describe(widget=True)"
   ]
  },
  {
   "cell_type": "markdown",
   "metadata": {
    "id": "yrP3KTM_2HWt"
   },
   "source": [
    "### `show`\n",
    "\n",
    "You can show individual fields like the sample ID (`s`), "
   ]
  },
  {
   "cell_type": "code",
   "execution_count": 9,
   "metadata": {
    "id": "PxCzjH1Y2HWt"
   },
   "outputs": [
    {
     "data": {
      "text/html": [
       "<table><thead><tr><td style=\"white-space: nowrap; max-width: 500px; overflow: hidden; text-overflow: ellipsis; \" colspan=\"1\"><div style=\"text-align: left;\"></div></td></tr><tr><td style=\"white-space: nowrap; max-width: 500px; overflow: hidden; text-overflow: ellipsis; \" colspan=\"1\"><div style=\"text-align: left;border-bottom: solid 2px #000; padding-bottom: 5px\">s</div></td></tr><tr><td style=\"white-space: nowrap; max-width: 500px; overflow: hidden; text-overflow: ellipsis; text-align: left;\">str</td></tr>\n",
       "</thead><tbody><tr><td style=\"white-space: nowrap; max-width: 500px; overflow: hidden; text-overflow: ellipsis; \">&quot;HG00096&quot;</td></tr>\n",
       "<tr><td style=\"white-space: nowrap; max-width: 500px; overflow: hidden; text-overflow: ellipsis; \">&quot;HG00099&quot;</td></tr>\n",
       "<tr><td style=\"white-space: nowrap; max-width: 500px; overflow: hidden; text-overflow: ellipsis; \">&quot;HG00105&quot;</td></tr>\n",
       "<tr><td style=\"white-space: nowrap; max-width: 500px; overflow: hidden; text-overflow: ellipsis; \">&quot;HG00118&quot;</td></tr>\n",
       "<tr><td style=\"white-space: nowrap; max-width: 500px; overflow: hidden; text-overflow: ellipsis; \">&quot;HG00129&quot;</td></tr>\n",
       "<tr><td style=\"white-space: nowrap; max-width: 500px; overflow: hidden; text-overflow: ellipsis; \">&quot;HG00148&quot;</td></tr>\n",
       "<tr><td style=\"white-space: nowrap; max-width: 500px; overflow: hidden; text-overflow: ellipsis; \">&quot;HG00177&quot;</td></tr>\n",
       "<tr><td style=\"white-space: nowrap; max-width: 500px; overflow: hidden; text-overflow: ellipsis; \">&quot;HG00182&quot;</td></tr>\n",
       "<tr><td style=\"white-space: nowrap; max-width: 500px; overflow: hidden; text-overflow: ellipsis; \">&quot;HG00242&quot;</td></tr>\n",
       "<tr><td style=\"white-space: nowrap; max-width: 500px; overflow: hidden; text-overflow: ellipsis; \">&quot;HG00254&quot;</td></tr>\n",
       "</tbody></table><p style=\"background: #fdd; padding: 0.4em;\">showing top 10 rows</p>\n"
      ],
      "text/plain": [
       "+-----------+\n",
       "| s         |\n",
       "+-----------+\n",
       "| str       |\n",
       "+-----------+\n",
       "| \"HG00096\" |\n",
       "| \"HG00099\" |\n",
       "| \"HG00105\" |\n",
       "| \"HG00118\" |\n",
       "| \"HG00129\" |\n",
       "| \"HG00148\" |\n",
       "| \"HG00177\" |\n",
       "| \"HG00182\" |\n",
       "| \"HG00242\" |\n",
       "| \"HG00254\" |\n",
       "+-----------+\n",
       "showing top 10 rows"
      ]
     },
     "metadata": {},
     "output_type": "display_data"
    }
   ],
   "source": [
    "mt.s.show()"
   ]
  },
  {
   "cell_type": "markdown",
   "metadata": {
    "id": "8vj2UVEz2HWu"
   },
   "source": [
    "the locus (`locus`)"
   ]
  },
  {
   "cell_type": "code",
   "execution_count": 10,
   "metadata": {
    "id": "CEKTdbp02HWu"
   },
   "outputs": [
    {
     "data": {
      "text/html": [
       "<table><thead><tr><td style=\"white-space: nowrap; max-width: 500px; overflow: hidden; text-overflow: ellipsis; \" colspan=\"1\"><div style=\"text-align: left;\"></div></td><td style=\"white-space: nowrap; max-width: 500px; overflow: hidden; text-overflow: ellipsis; \" colspan=\"1\"><div style=\"text-align: left;\"></div></td></tr><tr><td style=\"white-space: nowrap; max-width: 500px; overflow: hidden; text-overflow: ellipsis; \" colspan=\"1\"><div style=\"text-align: left;border-bottom: solid 2px #000; padding-bottom: 5px\">locus</div></td><td style=\"white-space: nowrap; max-width: 500px; overflow: hidden; text-overflow: ellipsis; \" colspan=\"1\"><div style=\"text-align: left;border-bottom: solid 2px #000; padding-bottom: 5px\">alleles</div></td></tr><tr><td style=\"white-space: nowrap; max-width: 500px; overflow: hidden; text-overflow: ellipsis; text-align: left;\">locus&lt;GRCh37&gt;</td><td style=\"white-space: nowrap; max-width: 500px; overflow: hidden; text-overflow: ellipsis; text-align: left;\">array&lt;str&gt;</td></tr>\n",
       "</thead><tbody><tr><td style=\"white-space: nowrap; max-width: 500px; overflow: hidden; text-overflow: ellipsis; \">1:904165</td><td style=\"white-space: nowrap; max-width: 500px; overflow: hidden; text-overflow: ellipsis; \">[&quot;G&quot;,&quot;A&quot;]</td></tr>\n",
       "<tr><td style=\"white-space: nowrap; max-width: 500px; overflow: hidden; text-overflow: ellipsis; \">1:909917</td><td style=\"white-space: nowrap; max-width: 500px; overflow: hidden; text-overflow: ellipsis; \">[&quot;G&quot;,&quot;A&quot;]</td></tr>\n",
       "<tr><td style=\"white-space: nowrap; max-width: 500px; overflow: hidden; text-overflow: ellipsis; \">1:986963</td><td style=\"white-space: nowrap; max-width: 500px; overflow: hidden; text-overflow: ellipsis; \">[&quot;C&quot;,&quot;T&quot;]</td></tr>\n",
       "<tr><td style=\"white-space: nowrap; max-width: 500px; overflow: hidden; text-overflow: ellipsis; \">1:1509414</td><td style=\"white-space: nowrap; max-width: 500px; overflow: hidden; text-overflow: ellipsis; \">[&quot;AG&quot;,&quot;A&quot;]</td></tr>\n",
       "<tr><td style=\"white-space: nowrap; max-width: 500px; overflow: hidden; text-overflow: ellipsis; \">1:1563691</td><td style=\"white-space: nowrap; max-width: 500px; overflow: hidden; text-overflow: ellipsis; \">[&quot;T&quot;,&quot;G&quot;]</td></tr>\n",
       "<tr><td style=\"white-space: nowrap; max-width: 500px; overflow: hidden; text-overflow: ellipsis; \">1:1707740</td><td style=\"white-space: nowrap; max-width: 500px; overflow: hidden; text-overflow: ellipsis; \">[&quot;T&quot;,&quot;G&quot;]</td></tr>\n",
       "<tr><td style=\"white-space: nowrap; max-width: 500px; overflow: hidden; text-overflow: ellipsis; \">1:2044130</td><td style=\"white-space: nowrap; max-width: 500px; overflow: hidden; text-overflow: ellipsis; \">[&quot;GTT&quot;,&quot;G&quot;]</td></tr>\n",
       "<tr><td style=\"white-space: nowrap; max-width: 500px; overflow: hidden; text-overflow: ellipsis; \">1:2169908</td><td style=\"white-space: nowrap; max-width: 500px; overflow: hidden; text-overflow: ellipsis; \">[&quot;G&quot;,&quot;T&quot;]</td></tr>\n",
       "<tr><td style=\"white-space: nowrap; max-width: 500px; overflow: hidden; text-overflow: ellipsis; \">1:2252970</td><td style=\"white-space: nowrap; max-width: 500px; overflow: hidden; text-overflow: ellipsis; \">[&quot;C&quot;,&quot;T&quot;]</td></tr>\n",
       "<tr><td style=\"white-space: nowrap; max-width: 500px; overflow: hidden; text-overflow: ellipsis; \">1:2284195</td><td style=\"white-space: nowrap; max-width: 500px; overflow: hidden; text-overflow: ellipsis; \">[&quot;T&quot;,&quot;C&quot;]</td></tr>\n",
       "</tbody></table><p style=\"background: #fdd; padding: 0.4em;\">showing top 10 rows</p>\n"
      ],
      "text/plain": [
       "+---------------+-------------+\n",
       "| locus         | alleles     |\n",
       "+---------------+-------------+\n",
       "| locus<GRCh37> | array<str>  |\n",
       "+---------------+-------------+\n",
       "| 1:904165      | [\"G\",\"A\"]   |\n",
       "| 1:909917      | [\"G\",\"A\"]   |\n",
       "| 1:986963      | [\"C\",\"T\"]   |\n",
       "| 1:1509414     | [\"AG\",\"A\"]  |\n",
       "| 1:1563691     | [\"T\",\"G\"]   |\n",
       "| 1:1707740     | [\"T\",\"G\"]   |\n",
       "| 1:2044130     | [\"GTT\",\"G\"] |\n",
       "| 1:2169908     | [\"G\",\"T\"]   |\n",
       "| 1:2252970     | [\"C\",\"T\"]   |\n",
       "| 1:2284195     | [\"T\",\"C\"]   |\n",
       "+---------------+-------------+\n",
       "showing top 10 rows"
      ]
     },
     "metadata": {},
     "output_type": "display_data"
    }
   ],
   "source": [
    "mt.locus.show()"
   ]
  },
  {
   "cell_type": "markdown",
   "metadata": {
    "id": "u0yW4iL12HWu"
   },
   "source": [
    "or the called genotype (`GT`):"
   ]
  },
  {
   "cell_type": "code",
   "execution_count": 11,
   "metadata": {
    "id": "0FToA4UO2HWu"
   },
   "outputs": [
    {
     "data": {
      "text/html": [
       "<table><thead><tr><td style=\"white-space: nowrap; max-width: 500px; overflow: hidden; text-overflow: ellipsis; \" colspan=\"1\"><div style=\"text-align: left;\"></div></td><td style=\"white-space: nowrap; max-width: 500px; overflow: hidden; text-overflow: ellipsis; \" colspan=\"1\"><div style=\"text-align: left;\"></div></td><td style=\"white-space: nowrap; max-width: 500px; overflow: hidden; text-overflow: ellipsis; \" colspan=\"1\"><div style=\"text-align: left;\"></div></td><td style=\"white-space: nowrap; max-width: 500px; overflow: hidden; text-overflow: ellipsis; \" colspan=\"1\"><div style=\"text-align: left;\"></div></td><td style=\"white-space: nowrap; max-width: 500px; overflow: hidden; text-overflow: ellipsis; \" colspan=\"1\"><div style=\"text-align: left;\"></div></td><td style=\"white-space: nowrap; max-width: 500px; overflow: hidden; text-overflow: ellipsis; \" colspan=\"1\"><div style=\"text-align: left;\"></div></td></tr><tr><td style=\"white-space: nowrap; max-width: 500px; overflow: hidden; text-overflow: ellipsis; \" colspan=\"1\"><div style=\"text-align: left;\"></div></td><td style=\"white-space: nowrap; max-width: 500px; overflow: hidden; text-overflow: ellipsis; \" colspan=\"1\"><div style=\"text-align: left;\"></div></td><td style=\"white-space: nowrap; max-width: 500px; overflow: hidden; text-overflow: ellipsis; \" colspan=\"1\"><div style=\"text-align: left;border-bottom: solid 2px #000; padding-bottom: 5px\">&#x27;HG00096&#x27;</div></td><td style=\"white-space: nowrap; max-width: 500px; overflow: hidden; text-overflow: ellipsis; \" colspan=\"1\"><div style=\"text-align: left;border-bottom: solid 2px #000; padding-bottom: 5px\">&#x27;HG00099&#x27;</div></td><td style=\"white-space: nowrap; max-width: 500px; overflow: hidden; text-overflow: ellipsis; \" colspan=\"1\"><div style=\"text-align: left;border-bottom: solid 2px #000; padding-bottom: 5px\">&#x27;HG00105&#x27;</div></td><td style=\"white-space: nowrap; max-width: 500px; overflow: hidden; text-overflow: ellipsis; \" colspan=\"1\"><div style=\"text-align: left;border-bottom: solid 2px #000; padding-bottom: 5px\">&#x27;HG00118&#x27;</div></td></tr><tr><td style=\"white-space: nowrap; max-width: 500px; overflow: hidden; text-overflow: ellipsis; \" colspan=\"1\"><div style=\"text-align: left;border-bottom: solid 2px #000; padding-bottom: 5px\">locus</div></td><td style=\"white-space: nowrap; max-width: 500px; overflow: hidden; text-overflow: ellipsis; \" colspan=\"1\"><div style=\"text-align: left;border-bottom: solid 2px #000; padding-bottom: 5px\">alleles</div></td><td style=\"white-space: nowrap; max-width: 500px; overflow: hidden; text-overflow: ellipsis; \" colspan=\"1\"><div style=\"text-align: left;border-bottom: solid 2px #000; padding-bottom: 5px\">GT</div></td><td style=\"white-space: nowrap; max-width: 500px; overflow: hidden; text-overflow: ellipsis; \" colspan=\"1\"><div style=\"text-align: left;border-bottom: solid 2px #000; padding-bottom: 5px\">GT</div></td><td style=\"white-space: nowrap; max-width: 500px; overflow: hidden; text-overflow: ellipsis; \" colspan=\"1\"><div style=\"text-align: left;border-bottom: solid 2px #000; padding-bottom: 5px\">GT</div></td><td style=\"white-space: nowrap; max-width: 500px; overflow: hidden; text-overflow: ellipsis; \" colspan=\"1\"><div style=\"text-align: left;border-bottom: solid 2px #000; padding-bottom: 5px\">GT</div></td></tr><tr><td style=\"white-space: nowrap; max-width: 500px; overflow: hidden; text-overflow: ellipsis; text-align: left;\">locus&lt;GRCh37&gt;</td><td style=\"white-space: nowrap; max-width: 500px; overflow: hidden; text-overflow: ellipsis; text-align: left;\">array&lt;str&gt;</td><td style=\"white-space: nowrap; max-width: 500px; overflow: hidden; text-overflow: ellipsis; text-align: left;\">call</td><td style=\"white-space: nowrap; max-width: 500px; overflow: hidden; text-overflow: ellipsis; text-align: left;\">call</td><td style=\"white-space: nowrap; max-width: 500px; overflow: hidden; text-overflow: ellipsis; text-align: left;\">call</td><td style=\"white-space: nowrap; max-width: 500px; overflow: hidden; text-overflow: ellipsis; text-align: left;\">call</td></tr>\n",
       "</thead><tbody><tr><td style=\"white-space: nowrap; max-width: 500px; overflow: hidden; text-overflow: ellipsis; \">1:904165</td><td style=\"white-space: nowrap; max-width: 500px; overflow: hidden; text-overflow: ellipsis; \">[&quot;G&quot;,&quot;A&quot;]</td><td style=\"white-space: nowrap; max-width: 500px; overflow: hidden; text-overflow: ellipsis; \">0/0</td><td style=\"white-space: nowrap; max-width: 500px; overflow: hidden; text-overflow: ellipsis; \">0/0</td><td style=\"white-space: nowrap; max-width: 500px; overflow: hidden; text-overflow: ellipsis; \">0/0</td><td style=\"white-space: nowrap; max-width: 500px; overflow: hidden; text-overflow: ellipsis; \">0/0</td></tr>\n",
       "<tr><td style=\"white-space: nowrap; max-width: 500px; overflow: hidden; text-overflow: ellipsis; \">1:909917</td><td style=\"white-space: nowrap; max-width: 500px; overflow: hidden; text-overflow: ellipsis; \">[&quot;G&quot;,&quot;A&quot;]</td><td style=\"white-space: nowrap; max-width: 500px; overflow: hidden; text-overflow: ellipsis; \">0/0</td><td style=\"white-space: nowrap; max-width: 500px; overflow: hidden; text-overflow: ellipsis; \">0/0</td><td style=\"white-space: nowrap; max-width: 500px; overflow: hidden; text-overflow: ellipsis; \">0/0</td><td style=\"white-space: nowrap; max-width: 500px; overflow: hidden; text-overflow: ellipsis; \">0/0</td></tr>\n",
       "<tr><td style=\"white-space: nowrap; max-width: 500px; overflow: hidden; text-overflow: ellipsis; \">1:986963</td><td style=\"white-space: nowrap; max-width: 500px; overflow: hidden; text-overflow: ellipsis; \">[&quot;C&quot;,&quot;T&quot;]</td><td style=\"white-space: nowrap; max-width: 500px; overflow: hidden; text-overflow: ellipsis; \">0/0</td><td style=\"white-space: nowrap; max-width: 500px; overflow: hidden; text-overflow: ellipsis; \">0/0</td><td style=\"white-space: nowrap; max-width: 500px; overflow: hidden; text-overflow: ellipsis; \">0/0</td><td style=\"white-space: nowrap; max-width: 500px; overflow: hidden; text-overflow: ellipsis; \">0/0</td></tr>\n",
       "<tr><td style=\"white-space: nowrap; max-width: 500px; overflow: hidden; text-overflow: ellipsis; \">1:1509414</td><td style=\"white-space: nowrap; max-width: 500px; overflow: hidden; text-overflow: ellipsis; \">[&quot;AG&quot;,&quot;A&quot;]</td><td style=\"white-space: nowrap; max-width: 500px; overflow: hidden; text-overflow: ellipsis; \">0/0</td><td style=\"white-space: nowrap; max-width: 500px; overflow: hidden; text-overflow: ellipsis; \">0/0</td><td style=\"white-space: nowrap; max-width: 500px; overflow: hidden; text-overflow: ellipsis; \">0/0</td><td style=\"white-space: nowrap; max-width: 500px; overflow: hidden; text-overflow: ellipsis; \">0/0</td></tr>\n",
       "<tr><td style=\"white-space: nowrap; max-width: 500px; overflow: hidden; text-overflow: ellipsis; \">1:1563691</td><td style=\"white-space: nowrap; max-width: 500px; overflow: hidden; text-overflow: ellipsis; \">[&quot;T&quot;,&quot;G&quot;]</td><td style=\"white-space: nowrap; max-width: 500px; overflow: hidden; text-overflow: ellipsis; \">NA</td><td style=\"white-space: nowrap; max-width: 500px; overflow: hidden; text-overflow: ellipsis; \">0/0</td><td style=\"white-space: nowrap; max-width: 500px; overflow: hidden; text-overflow: ellipsis; \">0/0</td><td style=\"white-space: nowrap; max-width: 500px; overflow: hidden; text-overflow: ellipsis; \">0/0</td></tr>\n",
       "<tr><td style=\"white-space: nowrap; max-width: 500px; overflow: hidden; text-overflow: ellipsis; \">1:1707740</td><td style=\"white-space: nowrap; max-width: 500px; overflow: hidden; text-overflow: ellipsis; \">[&quot;T&quot;,&quot;G&quot;]</td><td style=\"white-space: nowrap; max-width: 500px; overflow: hidden; text-overflow: ellipsis; \">0/1</td><td style=\"white-space: nowrap; max-width: 500px; overflow: hidden; text-overflow: ellipsis; \">0/1</td><td style=\"white-space: nowrap; max-width: 500px; overflow: hidden; text-overflow: ellipsis; \">0/1</td><td style=\"white-space: nowrap; max-width: 500px; overflow: hidden; text-overflow: ellipsis; \">0/0</td></tr>\n",
       "<tr><td style=\"white-space: nowrap; max-width: 500px; overflow: hidden; text-overflow: ellipsis; \">1:2044130</td><td style=\"white-space: nowrap; max-width: 500px; overflow: hidden; text-overflow: ellipsis; \">[&quot;GTT&quot;,&quot;G&quot;]</td><td style=\"white-space: nowrap; max-width: 500px; overflow: hidden; text-overflow: ellipsis; \">0/1</td><td style=\"white-space: nowrap; max-width: 500px; overflow: hidden; text-overflow: ellipsis; \">0/1</td><td style=\"white-space: nowrap; max-width: 500px; overflow: hidden; text-overflow: ellipsis; \">0/1</td><td style=\"white-space: nowrap; max-width: 500px; overflow: hidden; text-overflow: ellipsis; \">0/1</td></tr>\n",
       "<tr><td style=\"white-space: nowrap; max-width: 500px; overflow: hidden; text-overflow: ellipsis; \">1:2169908</td><td style=\"white-space: nowrap; max-width: 500px; overflow: hidden; text-overflow: ellipsis; \">[&quot;G&quot;,&quot;T&quot;]</td><td style=\"white-space: nowrap; max-width: 500px; overflow: hidden; text-overflow: ellipsis; \">0/0</td><td style=\"white-space: nowrap; max-width: 500px; overflow: hidden; text-overflow: ellipsis; \">0/0</td><td style=\"white-space: nowrap; max-width: 500px; overflow: hidden; text-overflow: ellipsis; \">0/1</td><td style=\"white-space: nowrap; max-width: 500px; overflow: hidden; text-overflow: ellipsis; \">0/0</td></tr>\n",
       "<tr><td style=\"white-space: nowrap; max-width: 500px; overflow: hidden; text-overflow: ellipsis; \">1:2252970</td><td style=\"white-space: nowrap; max-width: 500px; overflow: hidden; text-overflow: ellipsis; \">[&quot;C&quot;,&quot;T&quot;]</td><td style=\"white-space: nowrap; max-width: 500px; overflow: hidden; text-overflow: ellipsis; \">0/0</td><td style=\"white-space: nowrap; max-width: 500px; overflow: hidden; text-overflow: ellipsis; \">NA</td><td style=\"white-space: nowrap; max-width: 500px; overflow: hidden; text-overflow: ellipsis; \">0/0</td><td style=\"white-space: nowrap; max-width: 500px; overflow: hidden; text-overflow: ellipsis; \">0/0</td></tr>\n",
       "<tr><td style=\"white-space: nowrap; max-width: 500px; overflow: hidden; text-overflow: ellipsis; \">1:2284195</td><td style=\"white-space: nowrap; max-width: 500px; overflow: hidden; text-overflow: ellipsis; \">[&quot;T&quot;,&quot;C&quot;]</td><td style=\"white-space: nowrap; max-width: 500px; overflow: hidden; text-overflow: ellipsis; \">1/1</td><td style=\"white-space: nowrap; max-width: 500px; overflow: hidden; text-overflow: ellipsis; \">0/1</td><td style=\"white-space: nowrap; max-width: 500px; overflow: hidden; text-overflow: ellipsis; \">0/1</td><td style=\"white-space: nowrap; max-width: 500px; overflow: hidden; text-overflow: ellipsis; \">0/1</td></tr>\n",
       "</tbody></table><p style=\"background: #fdd; padding: 0.4em;\">showing top 10 rows</p>\n",
       "<p style=\"background: #fdd; padding: 0.4em;\">showing the first 4 of 343 columns</p>\n"
      ],
      "text/plain": [
       "+---------------+-------------+--------------+--------------+--------------+\n",
       "| locus         | alleles     | 'HG00096'.GT | 'HG00099'.GT | 'HG00105'.GT |\n",
       "+---------------+-------------+--------------+--------------+--------------+\n",
       "| locus<GRCh37> | array<str>  | call         | call         | call         |\n",
       "+---------------+-------------+--------------+--------------+--------------+\n",
       "| 1:904165      | [\"G\",\"A\"]   | 0/0          | 0/0          | 0/0          |\n",
       "| 1:909917      | [\"G\",\"A\"]   | 0/0          | 0/0          | 0/0          |\n",
       "| 1:986963      | [\"C\",\"T\"]   | 0/0          | 0/0          | 0/0          |\n",
       "| 1:1509414     | [\"AG\",\"A\"]  | 0/0          | 0/0          | 0/0          |\n",
       "| 1:1563691     | [\"T\",\"G\"]   | NA           | 0/0          | 0/0          |\n",
       "| 1:1707740     | [\"T\",\"G\"]   | 0/1          | 0/1          | 0/1          |\n",
       "| 1:2044130     | [\"GTT\",\"G\"] | 0/1          | 0/1          | 0/1          |\n",
       "| 1:2169908     | [\"G\",\"T\"]   | 0/0          | 0/0          | 0/1          |\n",
       "| 1:2252970     | [\"C\",\"T\"]   | 0/0          | NA           | 0/0          |\n",
       "| 1:2284195     | [\"T\",\"C\"]   | 1/1          | 0/1          | 0/1          |\n",
       "+---------------+-------------+--------------+--------------+--------------+\n",
       "\n",
       "+--------------+\n",
       "| 'HG00118'.GT |\n",
       "+--------------+\n",
       "| call         |\n",
       "+--------------+\n",
       "| 0/0          |\n",
       "| 0/0          |\n",
       "| 0/0          |\n",
       "| 0/0          |\n",
       "| 0/0          |\n",
       "| 0/0          |\n",
       "| 0/1          |\n",
       "| 0/0          |\n",
       "| 0/0          |\n",
       "| 0/1          |\n",
       "+--------------+\n",
       "showing top 10 rows\n",
       "showing the first 4 of 343 columns"
      ]
     },
     "metadata": {},
     "output_type": "display_data"
    }
   ],
   "source": [
    "mt.GT.show()"
   ]
  },
  {
   "cell_type": "markdown",
   "metadata": {
    "id": "hj4di3N62HWu"
   },
   "source": [
    "### `summarize`\n",
    "`summarize` Prints (potentially) useful information about any field or object:"
   ]
  },
  {
   "cell_type": "code",
   "execution_count": 12,
   "metadata": {
    "id": "LR7zaI302HWv"
   },
   "outputs": [
    {
     "data": {
      "text/html": [
       "<p>4470319 records.</p><b>DP</b> (<i>int32</i>):<ul><table><tbody><tr><td>Non-missing</td><td>4399949 (98.43%)</td></tr><tr><td>Missing</td><td>70370 (1.57%)</td></tr><tr><td>Minimum</td><td>0</td></tr><tr><td>Maximum</td><td>150</td></tr><tr><td>Mean</td><td>7.26</td></tr><tr><td>Std Dev</td><td>4.40</td></tr></tbody></table></ul>"
      ],
      "text/plain": [
       "\n",
       "4470319 records.\n",
       "\n",
       "- DP (int32):\n",
       "  Non-missing: 4399949 (98.43%)\n",
       "      Missing: 70370 (1.57%)\n",
       "      Minimum: 0\n",
       "      Maximum: 150\n",
       "         Mean: 7.26\n",
       "      Std Dev: 4.40"
      ]
     },
     "metadata": {},
     "output_type": "display_data"
    }
   ],
   "source": [
    "mt.DP.summarize()"
   ]
  },
  {
   "cell_type": "code",
   "execution_count": 13,
   "metadata": {
    "id": "pTmAEglC2HWv"
   },
   "outputs": [
    {
     "data": {
      "text/html": [
       "<p>4470319 records.</p><b>AD</b> (<i>array&lt;int32&gt;</i>):<ul><table><tbody><tr><td>Non-missing</td><td>4399949 (98.43%)</td></tr><tr><td>Missing</td><td>70370 (1.57%)</td></tr><tr><td>Min Size</td><td>2</td></tr><tr><td>Max Size</td><td>2</td></tr><tr><td>Mean Size</td><td>2.00</td></tr></tbody></table><li><b>AD[&lt;elements&gt;]</b> (<i>int32</i>):<ul><table><tbody><tr><td>Non-missing</td><td>8799898 (100.00%)</td></tr><tr><td>Missing</td><td>0</td></tr><tr><td>Minimum</td><td>0</td></tr><tr><td>Maximum</td><td>150</td></tr><tr><td>Mean</td><td>3.63</td></tr><tr><td>Std Dev</td><td>4.34</td></tr></tbody></table></ul></li></ul>"
      ],
      "text/plain": [
       "\n",
       "4470319 records.\n",
       "\n",
       "- AD (array<int32>):\n",
       "  Non-missing: 4399949 (98.43%)\n",
       "      Missing: 70370 (1.57%)\n",
       "     Min Size: 2\n",
       "     Max Size: 2\n",
       "    Mean Size: 2.00\n",
       "\n",
       "  - AD[<elements>] (int32):\n",
       "    Non-missing: 8799898 (100.00%)\n",
       "        Missing: 0\n",
       "        Minimum: 0\n",
       "        Maximum: 150\n",
       "           Mean: 3.63\n",
       "        Std Dev: 4.34"
      ]
     },
     "metadata": {},
     "output_type": "display_data"
    }
   ],
   "source": [
    "mt.AD.summarize()"
   ]
  },
  {
   "cell_type": "markdown",
   "metadata": {
    "id": "dm1Q9b_C2HWw"
   },
   "source": [
    "### `count`\n",
    "\n",
    "`MatrixTable.count` returns a tuple with the number of rows (variants) and number of columns (samples)."
   ]
  },
  {
   "cell_type": "code",
   "execution_count": 14,
   "metadata": {
    "id": "LYfR7VZ42HWx"
   },
   "outputs": [
    {
     "data": {
      "text/plain": [
       "(13033, 343)"
      ]
     },
     "execution_count": 14,
     "metadata": {},
     "output_type": "execute_result"
    }
   ],
   "source": [
    "mt.count()"
   ]
  },
  {
   "cell_type": "markdown",
   "metadata": {
    "id": "oGha8GXb2HWy"
   },
   "source": [
    "### Hail has functions built for genetics\n",
    "\n",
    "For example, `hl.summarize_variants` prints useful statistics about the genetic variants in the dataset. These are not part of the generic `summarize()` function, which must support all kinds of data, not just variant data!"
   ]
  },
  {
   "cell_type": "code",
   "execution_count": 15,
   "metadata": {
    "id": "7U8y5_rM2HWy"
   },
   "outputs": [
    {
     "data": {
      "text/html": [
       "<p><b>Variant summary:</b></p><ul><li><p>Total variants: 13033</p></li><li><p>Alleles per variant:</p><table><thead style=\"font-weight: bold;\"><tr><th>Number of alleles</th><th>Count</th></tr></thead><tbody><tr><td>2</td><td>13033</td></tr></tbody></table></li><li><p>Counts by allele type:</p><table><thead style=\"font-weight: bold;\"><tr><th>Allele type</th><th>Count</th></tr></thead><tbody><tr><td>SNP</td><td>12800</td></tr><tr><td>Deletion</td><td>138</td></tr><tr><td>Insertion</td><td>95</td></tr></tbody></table></li><li><p>Transitions/Transversions:</p><table><thead style=\"font-weight: bold;\"><tr><th>Metric</th><th>Value</th></tr></thead><tbody><tr><td>Transitions</td><td>9840</td></tr><tr><td>Transversions</td><td>2960</td></tr><tr><td>Ratio</td><td>3.32</td></tr></tbody></table></li><li><p>Variants per contig:</p><table><thead style=\"font-weight: bold;\"><tr><th>Contig</th><th>Count</th></tr></thead><tbody><tr><td>1</td><td>1084</td></tr><tr><td>2</td><td>1038</td></tr><tr><td>3</td><td>882</td></tr><tr><td>4</td><td>788</td></tr><tr><td>5</td><td>791</td></tr><tr><td>6</td><td>824</td></tr><tr><td>7</td><td>671</td></tr><tr><td>8</td><td>633</td></tr><tr><td>9</td><td>510</td></tr><tr><td>10</td><td>647</td></tr><tr><td>11</td><td>677</td></tr><tr><td>12</td><td>679</td></tr><tr><td>13</td><td>415</td></tr><tr><td>14</td><td>417</td></tr><tr><td>15</td><td>414</td></tr><tr><td>16</td><td>443</td></tr><tr><td>17</td><td>429</td></tr><tr><td>18</td><td>368</td></tr><tr><td>19</td><td>396</td></tr><tr><td>20</td><td>353</td></tr><tr><td>21</td><td>187</td></tr><tr><td>X</td><td>387</td></tr></tbody></table></li></ul>"
      ],
      "text/plain": [
       "==============================\n",
       "Number of variants: 13033\n",
       "==============================\n",
       "Alleles per variant\n",
       "-------------------\n",
       "  2 alleles: 13033 variants\n",
       "==============================\n",
       "Variants per contig\n",
       "-------------------\n",
       "   1: 1084 variants\n",
       "   2: 1038 variants\n",
       "   3: 882 variants\n",
       "   4: 788 variants\n",
       "   5: 791 variants\n",
       "   6: 824 variants\n",
       "   7: 671 variants\n",
       "   8: 633 variants\n",
       "   9: 510 variants\n",
       "  10: 647 variants\n",
       "  11: 677 variants\n",
       "  12: 679 variants\n",
       "  13: 415 variants\n",
       "  14: 417 variants\n",
       "  15: 414 variants\n",
       "  16: 443 variants\n",
       "  17: 429 variants\n",
       "  18: 368 variants\n",
       "  19: 396 variants\n",
       "  20: 353 variants\n",
       "  21: 187 variants\n",
       "   X: 387 variants\n",
       "==============================\n",
       "Allele type distribution\n",
       "------------------------\n",
       "        SNP: 12800 alternate alleles (Ti: 9840, Tv: 2960, ratio: 3.32)\n",
       "   Deletion: 138 alternate alleles\n",
       "  Insertion: 95 alternate alleles\n",
       "=============================="
      ]
     },
     "metadata": {},
     "output_type": "display_data"
    }
   ],
   "source": [
    "hl.summarize_variants(mt)"
   ]
  },
  {
   "cell_type": "markdown",
   "metadata": {
    "id": "16dqQIEw2HWy"
   },
   "source": [
    "# Annotation and quality control"
   ]
  },
  {
   "cell_type": "markdown",
   "metadata": {
    "id": "qejWi_QL2HWy"
   },
   "source": [
    "## Integrate sample information\n",
    "\n",
    "This is a text file containing phenotype information:"
   ]
  },
  {
   "cell_type": "code",
   "execution_count": 16,
   "metadata": {
    "id": "iXGReapp2HWz"
   },
   "outputs": [
    {
     "name": "stdout",
     "output_type": "stream",
     "text": [
      "s\tpopulation\tsuper_population\tis_female\tpurple_hair\tcaffeine_consumption\tsix_toes\n",
      "HG00096\tGBR\tEUR\tfalse\tfalse\t5.0746e+01\tfalse\n",
      "HG00097\tGBR\tEUR\ttrue\tfalse\t5.0244e+01\tfalse\n",
      "HG00098\tGBR\tEUR\tfalse\tfalse\t6.3758e+01\tfalse\n",
      "HG00099\tGBR\tEUR\ttrue\tfalse\t5.3899e+01\tfalse\n",
      "HG00100\tGBR\tEUR\ttrue\tfalse\t4.1456e+01\tfalse\n",
      "HG00101\tGBR\tEUR\tfalse\tfalse\t5.4906e+01\tfalse\n",
      "HG00102\tGBR\tEUR\ttrue\tfalse\t3.8281e+01\tfalse\n",
      "HG00103\tGBR\tEUR\tfalse\tfalse\t3.8200e+01\tfalse\n",
      "HG00104\tGBR\tEUR\ttrue\tfalse\t5.1852e+01\tfalse\n"
     ]
    }
   ],
   "source": [
    "! head resources/1kg_annotations.txt"
   ]
  },
  {
   "cell_type": "markdown",
   "metadata": {
    "id": "kI1Hfxrg2HWz"
   },
   "source": [
    "We can import it as a [Hail Table](https://hail.is/docs/0.2/overview/table.html) with [hl.import_table](https://hail.is/docs/0.2/methods/impex.html?highlight=import_table#hail.methods.import_table).\n",
    "\n",
    "We call it \"sa\" for \"sample annotations\"."
   ]
  },
  {
   "cell_type": "code",
   "execution_count": 17,
   "metadata": {
    "id": "8cmuxKwW2HWz"
   },
   "outputs": [
    {
     "name": "stderr",
     "output_type": "stream",
     "text": [
      "2023-09-11 14:33:05.949 Hail: INFO: Reading table to impute column types\n",
      "2023-09-11 14:33:07.189 Hail: INFO: Finished type imputation\n",
      "  Loading field 's' as type str (imputed)\n",
      "  Loading field 'population' as type str (imputed)\n",
      "  Loading field 'super_population' as type str (imputed)\n",
      "  Loading field 'is_female' as type bool (imputed)\n",
      "  Loading field 'purple_hair' as type bool (imputed)\n",
      "  Loading field 'caffeine_consumption' as type float64 (imputed)\n",
      "  Loading field 'six_toes' as type bool (imputed)\n"
     ]
    }
   ],
   "source": [
    "sa = hl.import_table('resources/1kg_annotations.txt', \n",
    "                      impute=True, \n",
    "                      key='s')"
   ]
  },
  {
   "cell_type": "markdown",
   "metadata": {
    "id": "Xvx5GWl-2HW0"
   },
   "source": [
    "While we can see the names and types of fields in the logging messages, we can also `show` this table:"
   ]
  },
  {
   "cell_type": "code",
   "execution_count": 18,
   "metadata": {
    "id": "WiXnrY5O2HW0"
   },
   "outputs": [
    {
     "data": {
      "text/html": [
       "<table><thead><tr><td style=\"white-space: nowrap; max-width: 500px; overflow: hidden; text-overflow: ellipsis; \" colspan=\"1\"><div style=\"text-align: left;\"></div></td><td style=\"white-space: nowrap; max-width: 500px; overflow: hidden; text-overflow: ellipsis; \" colspan=\"1\"><div style=\"text-align: left;\"></div></td><td style=\"white-space: nowrap; max-width: 500px; overflow: hidden; text-overflow: ellipsis; \" colspan=\"1\"><div style=\"text-align: left;\"></div></td><td style=\"white-space: nowrap; max-width: 500px; overflow: hidden; text-overflow: ellipsis; \" colspan=\"1\"><div style=\"text-align: left;\"></div></td><td style=\"white-space: nowrap; max-width: 500px; overflow: hidden; text-overflow: ellipsis; \" colspan=\"1\"><div style=\"text-align: left;\"></div></td><td style=\"white-space: nowrap; max-width: 500px; overflow: hidden; text-overflow: ellipsis; \" colspan=\"1\"><div style=\"text-align: left;\"></div></td><td style=\"white-space: nowrap; max-width: 500px; overflow: hidden; text-overflow: ellipsis; \" colspan=\"1\"><div style=\"text-align: left;\"></div></td></tr><tr><td style=\"white-space: nowrap; max-width: 500px; overflow: hidden; text-overflow: ellipsis; \" colspan=\"1\"><div style=\"text-align: left;border-bottom: solid 2px #000; padding-bottom: 5px\">s</div></td><td style=\"white-space: nowrap; max-width: 500px; overflow: hidden; text-overflow: ellipsis; \" colspan=\"1\"><div style=\"text-align: left;border-bottom: solid 2px #000; padding-bottom: 5px\">population</div></td><td style=\"white-space: nowrap; max-width: 500px; overflow: hidden; text-overflow: ellipsis; \" colspan=\"1\"><div style=\"text-align: left;border-bottom: solid 2px #000; padding-bottom: 5px\">super_population</div></td><td style=\"white-space: nowrap; max-width: 500px; overflow: hidden; text-overflow: ellipsis; \" colspan=\"1\"><div style=\"text-align: left;border-bottom: solid 2px #000; padding-bottom: 5px\">is_female</div></td><td style=\"white-space: nowrap; max-width: 500px; overflow: hidden; text-overflow: ellipsis; \" colspan=\"1\"><div style=\"text-align: left;border-bottom: solid 2px #000; padding-bottom: 5px\">purple_hair</div></td><td style=\"white-space: nowrap; max-width: 500px; overflow: hidden; text-overflow: ellipsis; \" colspan=\"1\"><div style=\"text-align: left;border-bottom: solid 2px #000; padding-bottom: 5px\">caffeine_consumption</div></td><td style=\"white-space: nowrap; max-width: 500px; overflow: hidden; text-overflow: ellipsis; \" colspan=\"1\"><div style=\"text-align: left;border-bottom: solid 2px #000; padding-bottom: 5px\">six_toes</div></td></tr><tr><td style=\"white-space: nowrap; max-width: 500px; overflow: hidden; text-overflow: ellipsis; text-align: left;\">str</td><td style=\"white-space: nowrap; max-width: 500px; overflow: hidden; text-overflow: ellipsis; text-align: left;\">str</td><td style=\"white-space: nowrap; max-width: 500px; overflow: hidden; text-overflow: ellipsis; text-align: left;\">str</td><td style=\"white-space: nowrap; max-width: 500px; overflow: hidden; text-overflow: ellipsis; text-align: left;\">bool</td><td style=\"white-space: nowrap; max-width: 500px; overflow: hidden; text-overflow: ellipsis; text-align: left;\">bool</td><td style=\"white-space: nowrap; max-width: 500px; overflow: hidden; text-overflow: ellipsis; text-align: left;\">float64</td><td style=\"white-space: nowrap; max-width: 500px; overflow: hidden; text-overflow: ellipsis; text-align: left;\">bool</td></tr>\n",
       "</thead><tbody><tr><td style=\"white-space: nowrap; max-width: 500px; overflow: hidden; text-overflow: ellipsis; \">&quot;HG00096&quot;</td><td style=\"white-space: nowrap; max-width: 500px; overflow: hidden; text-overflow: ellipsis; \">&quot;GBR&quot;</td><td style=\"white-space: nowrap; max-width: 500px; overflow: hidden; text-overflow: ellipsis; \">&quot;EUR&quot;</td><td style=\"white-space: nowrap; max-width: 500px; overflow: hidden; text-overflow: ellipsis; \">False</td><td style=\"white-space: nowrap; max-width: 500px; overflow: hidden; text-overflow: ellipsis; \">False</td><td style=\"white-space: nowrap; max-width: 500px; overflow: hidden; text-overflow: ellipsis; \">5.07e+01</td><td style=\"white-space: nowrap; max-width: 500px; overflow: hidden; text-overflow: ellipsis; \">False</td></tr>\n",
       "<tr><td style=\"white-space: nowrap; max-width: 500px; overflow: hidden; text-overflow: ellipsis; \">&quot;HG00097&quot;</td><td style=\"white-space: nowrap; max-width: 500px; overflow: hidden; text-overflow: ellipsis; \">&quot;GBR&quot;</td><td style=\"white-space: nowrap; max-width: 500px; overflow: hidden; text-overflow: ellipsis; \">&quot;EUR&quot;</td><td style=\"white-space: nowrap; max-width: 500px; overflow: hidden; text-overflow: ellipsis; \">True</td><td style=\"white-space: nowrap; max-width: 500px; overflow: hidden; text-overflow: ellipsis; \">False</td><td style=\"white-space: nowrap; max-width: 500px; overflow: hidden; text-overflow: ellipsis; \">5.02e+01</td><td style=\"white-space: nowrap; max-width: 500px; overflow: hidden; text-overflow: ellipsis; \">False</td></tr>\n",
       "<tr><td style=\"white-space: nowrap; max-width: 500px; overflow: hidden; text-overflow: ellipsis; \">&quot;HG00098&quot;</td><td style=\"white-space: nowrap; max-width: 500px; overflow: hidden; text-overflow: ellipsis; \">&quot;GBR&quot;</td><td style=\"white-space: nowrap; max-width: 500px; overflow: hidden; text-overflow: ellipsis; \">&quot;EUR&quot;</td><td style=\"white-space: nowrap; max-width: 500px; overflow: hidden; text-overflow: ellipsis; \">False</td><td style=\"white-space: nowrap; max-width: 500px; overflow: hidden; text-overflow: ellipsis; \">False</td><td style=\"white-space: nowrap; max-width: 500px; overflow: hidden; text-overflow: ellipsis; \">6.38e+01</td><td style=\"white-space: nowrap; max-width: 500px; overflow: hidden; text-overflow: ellipsis; \">False</td></tr>\n",
       "<tr><td style=\"white-space: nowrap; max-width: 500px; overflow: hidden; text-overflow: ellipsis; \">&quot;HG00099&quot;</td><td style=\"white-space: nowrap; max-width: 500px; overflow: hidden; text-overflow: ellipsis; \">&quot;GBR&quot;</td><td style=\"white-space: nowrap; max-width: 500px; overflow: hidden; text-overflow: ellipsis; \">&quot;EUR&quot;</td><td style=\"white-space: nowrap; max-width: 500px; overflow: hidden; text-overflow: ellipsis; \">True</td><td style=\"white-space: nowrap; max-width: 500px; overflow: hidden; text-overflow: ellipsis; \">False</td><td style=\"white-space: nowrap; max-width: 500px; overflow: hidden; text-overflow: ellipsis; \">5.39e+01</td><td style=\"white-space: nowrap; max-width: 500px; overflow: hidden; text-overflow: ellipsis; \">False</td></tr>\n",
       "<tr><td style=\"white-space: nowrap; max-width: 500px; overflow: hidden; text-overflow: ellipsis; \">&quot;HG00100&quot;</td><td style=\"white-space: nowrap; max-width: 500px; overflow: hidden; text-overflow: ellipsis; \">&quot;GBR&quot;</td><td style=\"white-space: nowrap; max-width: 500px; overflow: hidden; text-overflow: ellipsis; \">&quot;EUR&quot;</td><td style=\"white-space: nowrap; max-width: 500px; overflow: hidden; text-overflow: ellipsis; \">True</td><td style=\"white-space: nowrap; max-width: 500px; overflow: hidden; text-overflow: ellipsis; \">False</td><td style=\"white-space: nowrap; max-width: 500px; overflow: hidden; text-overflow: ellipsis; \">4.15e+01</td><td style=\"white-space: nowrap; max-width: 500px; overflow: hidden; text-overflow: ellipsis; \">False</td></tr>\n",
       "<tr><td style=\"white-space: nowrap; max-width: 500px; overflow: hidden; text-overflow: ellipsis; \">&quot;HG00101&quot;</td><td style=\"white-space: nowrap; max-width: 500px; overflow: hidden; text-overflow: ellipsis; \">&quot;GBR&quot;</td><td style=\"white-space: nowrap; max-width: 500px; overflow: hidden; text-overflow: ellipsis; \">&quot;EUR&quot;</td><td style=\"white-space: nowrap; max-width: 500px; overflow: hidden; text-overflow: ellipsis; \">False</td><td style=\"white-space: nowrap; max-width: 500px; overflow: hidden; text-overflow: ellipsis; \">False</td><td style=\"white-space: nowrap; max-width: 500px; overflow: hidden; text-overflow: ellipsis; \">5.49e+01</td><td style=\"white-space: nowrap; max-width: 500px; overflow: hidden; text-overflow: ellipsis; \">False</td></tr>\n",
       "<tr><td style=\"white-space: nowrap; max-width: 500px; overflow: hidden; text-overflow: ellipsis; \">&quot;HG00102&quot;</td><td style=\"white-space: nowrap; max-width: 500px; overflow: hidden; text-overflow: ellipsis; \">&quot;GBR&quot;</td><td style=\"white-space: nowrap; max-width: 500px; overflow: hidden; text-overflow: ellipsis; \">&quot;EUR&quot;</td><td style=\"white-space: nowrap; max-width: 500px; overflow: hidden; text-overflow: ellipsis; \">True</td><td style=\"white-space: nowrap; max-width: 500px; overflow: hidden; text-overflow: ellipsis; \">False</td><td style=\"white-space: nowrap; max-width: 500px; overflow: hidden; text-overflow: ellipsis; \">3.83e+01</td><td style=\"white-space: nowrap; max-width: 500px; overflow: hidden; text-overflow: ellipsis; \">False</td></tr>\n",
       "<tr><td style=\"white-space: nowrap; max-width: 500px; overflow: hidden; text-overflow: ellipsis; \">&quot;HG00103&quot;</td><td style=\"white-space: nowrap; max-width: 500px; overflow: hidden; text-overflow: ellipsis; \">&quot;GBR&quot;</td><td style=\"white-space: nowrap; max-width: 500px; overflow: hidden; text-overflow: ellipsis; \">&quot;EUR&quot;</td><td style=\"white-space: nowrap; max-width: 500px; overflow: hidden; text-overflow: ellipsis; \">False</td><td style=\"white-space: nowrap; max-width: 500px; overflow: hidden; text-overflow: ellipsis; \">False</td><td style=\"white-space: nowrap; max-width: 500px; overflow: hidden; text-overflow: ellipsis; \">3.82e+01</td><td style=\"white-space: nowrap; max-width: 500px; overflow: hidden; text-overflow: ellipsis; \">False</td></tr>\n",
       "<tr><td style=\"white-space: nowrap; max-width: 500px; overflow: hidden; text-overflow: ellipsis; \">&quot;HG00104&quot;</td><td style=\"white-space: nowrap; max-width: 500px; overflow: hidden; text-overflow: ellipsis; \">&quot;GBR&quot;</td><td style=\"white-space: nowrap; max-width: 500px; overflow: hidden; text-overflow: ellipsis; \">&quot;EUR&quot;</td><td style=\"white-space: nowrap; max-width: 500px; overflow: hidden; text-overflow: ellipsis; \">True</td><td style=\"white-space: nowrap; max-width: 500px; overflow: hidden; text-overflow: ellipsis; \">False</td><td style=\"white-space: nowrap; max-width: 500px; overflow: hidden; text-overflow: ellipsis; \">5.19e+01</td><td style=\"white-space: nowrap; max-width: 500px; overflow: hidden; text-overflow: ellipsis; \">False</td></tr>\n",
       "<tr><td style=\"white-space: nowrap; max-width: 500px; overflow: hidden; text-overflow: ellipsis; \">&quot;HG00105&quot;</td><td style=\"white-space: nowrap; max-width: 500px; overflow: hidden; text-overflow: ellipsis; \">&quot;GBR&quot;</td><td style=\"white-space: nowrap; max-width: 500px; overflow: hidden; text-overflow: ellipsis; \">&quot;EUR&quot;</td><td style=\"white-space: nowrap; max-width: 500px; overflow: hidden; text-overflow: ellipsis; \">False</td><td style=\"white-space: nowrap; max-width: 500px; overflow: hidden; text-overflow: ellipsis; \">False</td><td style=\"white-space: nowrap; max-width: 500px; overflow: hidden; text-overflow: ellipsis; \">3.57e+01</td><td style=\"white-space: nowrap; max-width: 500px; overflow: hidden; text-overflow: ellipsis; \">False</td></tr>\n",
       "</tbody></table><p style=\"background: #fdd; padding: 0.4em;\">showing top 10 rows</p>\n"
      ],
      "text/plain": [
       "+-----------+------------+------------------+-----------+-------------+\n",
       "| s         | population | super_population | is_female | purple_hair |\n",
       "+-----------+------------+------------------+-----------+-------------+\n",
       "| str       | str        | str              |      bool |        bool |\n",
       "+-----------+------------+------------------+-----------+-------------+\n",
       "| \"HG00096\" | \"GBR\"      | \"EUR\"            |     False |       False |\n",
       "| \"HG00097\" | \"GBR\"      | \"EUR\"            |      True |       False |\n",
       "| \"HG00098\" | \"GBR\"      | \"EUR\"            |     False |       False |\n",
       "| \"HG00099\" | \"GBR\"      | \"EUR\"            |      True |       False |\n",
       "| \"HG00100\" | \"GBR\"      | \"EUR\"            |      True |       False |\n",
       "| \"HG00101\" | \"GBR\"      | \"EUR\"            |     False |       False |\n",
       "| \"HG00102\" | \"GBR\"      | \"EUR\"            |      True |       False |\n",
       "| \"HG00103\" | \"GBR\"      | \"EUR\"            |     False |       False |\n",
       "| \"HG00104\" | \"GBR\"      | \"EUR\"            |      True |       False |\n",
       "| \"HG00105\" | \"GBR\"      | \"EUR\"            |     False |       False |\n",
       "+-----------+------------+------------------+-----------+-------------+\n",
       "\n",
       "+----------------------+----------+\n",
       "| caffeine_consumption | six_toes |\n",
       "+----------------------+----------+\n",
       "|              float64 |     bool |\n",
       "+----------------------+----------+\n",
       "|             5.07e+01 |    False |\n",
       "|             5.02e+01 |    False |\n",
       "|             6.38e+01 |    False |\n",
       "|             5.39e+01 |    False |\n",
       "|             4.15e+01 |    False |\n",
       "|             5.49e+01 |    False |\n",
       "|             3.83e+01 |    False |\n",
       "|             3.82e+01 |    False |\n",
       "|             5.19e+01 |    False |\n",
       "|             3.57e+01 |    False |\n",
       "+----------------------+----------+\n",
       "showing top 10 rows"
      ]
     },
     "metadata": {},
     "output_type": "display_data"
    }
   ],
   "source": [
    "sa.show()"
   ]
  },
  {
   "cell_type": "markdown",
   "metadata": {
    "id": "sBgsgvWx2HW0"
   },
   "source": [
    "And we can `summarize` each field in `sa`:"
   ]
  },
  {
   "cell_type": "code",
   "execution_count": 19,
   "metadata": {
    "id": "V1ByNopq2HW1"
   },
   "outputs": [
    {
     "name": "stderr",
     "output_type": "stream",
     "text": [
      "2023-09-11 14:33:08.919 Hail: INFO: Coerced sorted dataset\n"
     ]
    },
    {
     "data": {
      "text/html": [
       "<p>3500 records.</p><ul><li><b>s</b> (<i>str</i>):<ul><table><tbody><tr><td>Non-missing</td><td>3500 (100.00%)</td></tr><tr><td>Missing</td><td>0</td></tr><tr><td>Min Size</td><td>7</td></tr><tr><td>Max Size</td><td>7</td></tr><tr><td>Mean Size</td><td>7.00</td></tr><tr><td>Sample Values</td><td>[&#x27;HG00096&#x27;, &#x27;HG00097&#x27;, &#x27;HG00098&#x27;, &#x27;HG00099&#x27;, &#x27;HG00100&#x27;]</td></tr></tbody></table></ul></li><li><b>population</b> (<i>str</i>):<ul><table><tbody><tr><td>Non-missing</td><td>2819 (80.54%)</td></tr><tr><td>Missing</td><td>681 (19.46%)</td></tr><tr><td>Min Size</td><td>3</td></tr><tr><td>Max Size</td><td>3</td></tr><tr><td>Mean Size</td><td>3.00</td></tr><tr><td>Sample Values</td><td>[&#x27;GBR&#x27;, &#x27;GBR&#x27;, &#x27;GBR&#x27;, &#x27;GBR&#x27;, &#x27;GBR&#x27;]</td></tr></tbody></table></ul></li><li><b>super_population</b> (<i>str</i>):<ul><table><tbody><tr><td>Non-missing</td><td>2819 (80.54%)</td></tr><tr><td>Missing</td><td>681 (19.46%)</td></tr><tr><td>Min Size</td><td>3</td></tr><tr><td>Max Size</td><td>3</td></tr><tr><td>Mean Size</td><td>3.00</td></tr><tr><td>Sample Values</td><td>[&#x27;EUR&#x27;, &#x27;EUR&#x27;, &#x27;EUR&#x27;, &#x27;EUR&#x27;, &#x27;EUR&#x27;]</td></tr></tbody></table></ul></li><li><b>is_female</b> (<i>bool</i>):<ul><table><tbody><tr><td>Non-missing</td><td>3500 (100.00%)</td></tr><tr><td>Missing</td><td>0</td></tr><tr><td>Counts</td><td>{False: 1740, True: 1760}</td></tr></tbody></table></ul></li><li><b>purple_hair</b> (<i>bool</i>):<ul><table><tbody><tr><td>Non-missing</td><td>3500 (100.00%)</td></tr><tr><td>Missing</td><td>0</td></tr><tr><td>Counts</td><td>{False: 2813, True: 687}</td></tr></tbody></table></ul></li><li><b>caffeine_consumption</b> (<i>float64</i>):<ul><table><tbody><tr><td>Non-missing</td><td>3500 (100.00%)</td></tr><tr><td>Missing</td><td>0</td></tr><tr><td>Minimum</td><td>14.11</td></tr><tr><td>Maximum</td><td>93.59</td></tr><tr><td>Mean</td><td>46.15</td></tr><tr><td>Std Dev</td><td>10.59</td></tr></tbody></table></ul></li><li><b>six_toes</b> (<i>bool</i>):<ul><table><tbody><tr><td>Non-missing</td><td>3500 (100.00%)</td></tr><tr><td>Missing</td><td>0</td></tr><tr><td>Counts</td><td>{False: 3425, True: 75}</td></tr></tbody></table></ul></li></ul>"
      ],
      "text/plain": [
       "\n",
       "3500 records.\n",
       "\n",
       "  - s (str):\n",
       "      Non-missing: 3500 (100.00%)\n",
       "          Missing: 0\n",
       "         Min Size: 7\n",
       "         Max Size: 7\n",
       "        Mean Size: 7.00\n",
       "    Sample Values: ['HG00096', 'HG00097', 'HG00098', 'HG00099', 'HG00100']\n",
       "\n",
       "  - population (str):\n",
       "      Non-missing: 2819 (80.54%)\n",
       "          Missing: 681 (19.46%)\n",
       "         Min Size: 3\n",
       "         Max Size: 3\n",
       "        Mean Size: 3.00\n",
       "    Sample Values: ['GBR', 'GBR', 'GBR', 'GBR', 'GBR']\n",
       "\n",
       "  - super_population (str):\n",
       "      Non-missing: 2819 (80.54%)\n",
       "          Missing: 681 (19.46%)\n",
       "         Min Size: 3\n",
       "         Max Size: 3\n",
       "        Mean Size: 3.00\n",
       "    Sample Values: ['EUR', 'EUR', 'EUR', 'EUR', 'EUR']\n",
       "\n",
       "  - is_female (bool):\n",
       "    Non-missing: 3500 (100.00%)\n",
       "        Missing: 0\n",
       "         Counts: {False: 1740, True: 1760}\n",
       "\n",
       "  - purple_hair (bool):\n",
       "    Non-missing: 3500 (100.00%)\n",
       "        Missing: 0\n",
       "         Counts: {False: 2813, True: 687}\n",
       "\n",
       "  - caffeine_consumption (float64):\n",
       "    Non-missing: 3500 (100.00%)\n",
       "        Missing: 0\n",
       "        Minimum: 14.11\n",
       "        Maximum: 93.59\n",
       "           Mean: 46.15\n",
       "        Std Dev: 10.59\n",
       "\n",
       "  - six_toes (bool):\n",
       "    Non-missing: 3500 (100.00%)\n",
       "        Missing: 0\n",
       "         Counts: {False: 3425, True: 75}"
      ]
     },
     "metadata": {},
     "output_type": "display_data"
    }
   ],
   "source": [
    "sa.summarize()"
   ]
  },
  {
   "cell_type": "markdown",
   "metadata": {
    "id": "Sgt-E1fX2HW1"
   },
   "source": [
    "## Add sample metadata into our 1KG `MatrixTable`\n",
    "\n",
    "It just takes one line:"
   ]
  },
  {
   "cell_type": "code",
   "execution_count": 20,
   "metadata": {
    "id": "BAQg4Jdj2HW1"
   },
   "outputs": [],
   "source": [
    "mt = mt.annotate_cols(pheno = sa[mt.s])"
   ]
  },
  {
   "cell_type": "markdown",
   "metadata": {
    "id": "8QPIHZcm2HW1"
   },
   "source": [
    "### What's going on here?\n",
    "\n",
    "Understanding what's going on here is a bit more difficult. To understand, we need to understand a few pieces:\n",
    "\n",
    "#### 1. `annotate` methods\n",
    "\n",
    "In Hail, `annotate` methods refer to **adding new fields**. \n",
    "\n",
    " - `MatrixTable`'s `annotate_cols` adds new column (**sample**) fields.\n",
    " - `MatrixTable`'s `annotate_rows` adds new row (**variant**) fields.\n",
    " - `MatrixTable`'s `annotate_entries` adds new entry (**genotype**) fields.\n",
    " - `Table`'s `annotate` adds new row fields.\n",
    "\n",
    "In the above cell, we are adding a new column (**sample**) field called \"pheno\". This field should be the values in our table `sa` associated with the sample ID `s` in our `MatrixTable` - that is, this is performing a **join**.\n",
    "\n",
    "Python uses square brackets to look up values in dictionaries:\n",
    "\n",
    "    d = {'foo': 5, 'bar': 10}\n",
    "    d['foo']\n",
    "\n",
    "You should think of this in much the same way - for each column of `mt`, we are looking up the fields in `sa` using the sample ID `s`.\n",
    "\n",
    "Let's look at where does this go into the `MatrixTable`"
   ]
  },
  {
   "cell_type": "code",
   "execution_count": 21,
   "metadata": {
    "id": "H7T7lor22HW2"
   },
   "outputs": [
    {
     "data": {
      "application/vnd.jupyter.widget-view+json": {
       "model_id": "dc8f5677ac5f47458ceed1466d0527dc",
       "version_major": 2,
       "version_minor": 0
      },
      "text/plain": [
       "VBox(children=(HBox(children=(Button(description='globals', layout=Layout(height='30px', width='65px'), style=…"
      ]
     },
     "metadata": {},
     "output_type": "display_data"
    },
    {
     "data": {
      "application/vnd.jupyter.widget-view+json": {
       "model_id": "f3b553a29ab649d8bb3d1d9712855ec1",
       "version_major": 2,
       "version_minor": 0
      },
      "text/plain": [
       "Tab(children=(VBox(children=(HTML(value='<p><big>Global fields, with one value in the dataset.</big></p>\\n<p>C…"
      ]
     },
     "metadata": {},
     "output_type": "display_data"
    }
   ],
   "source": [
    "mt.describe(widget=True)"
   ]
  },
  {
   "cell_type": "markdown",
   "metadata": {
    "id": "c2T0SJrF2HW2"
   },
   "source": [
    "## Query the phenotype fields"
   ]
  },
  {
   "cell_type": "markdown",
   "metadata": {
    "id": "YMBnLFdB2HW2"
   },
   "source": [
    "What’s the fraction of samples with `purple_hair`?"
   ]
  },
  {
   "cell_type": "code",
   "execution_count": 22,
   "metadata": {
    "id": "tjGvGGC52HW2"
   },
   "outputs": [
    {
     "name": "stderr",
     "output_type": "stream",
     "text": [
      "2023-09-11 14:33:11.710 Hail: WARN: aggregate_cols(): Aggregates over cols ordered by 'col_key'.\n",
      "    To preserve matrix table column order, first unkey columns with 'key_cols_by()'\n"
     ]
    },
    {
     "data": {
      "text/plain": [
       "0.1457725947521866"
      ]
     },
     "execution_count": 22,
     "metadata": {},
     "output_type": "execute_result"
    }
   ],
   "source": [
    "mt.aggregate_cols(hl.agg.fraction(mt.pheno.purple_hair))"
   ]
  },
  {
   "cell_type": "markdown",
   "metadata": {
    "id": "Y2406GGd2HW2"
   },
   "source": [
    "How many people are in each self-reported major ancestry group?"
   ]
  },
  {
   "cell_type": "code",
   "execution_count": 23,
   "metadata": {
    "id": "NTKmKpF62HW3"
   },
   "outputs": [
    {
     "data": {
      "text/plain": [
       "{'AFR': 76, 'AMR': 33, 'EAS': 75, 'EUR': 41, 'SAS': 62, None: 56}"
      ]
     },
     "execution_count": 23,
     "metadata": {},
     "output_type": "execute_result"
    }
   ],
   "source": [
    "mt.aggregate_cols(hl.agg.counter(mt.pheno.super_population))"
   ]
  },
  {
   "cell_type": "markdown",
   "metadata": {
    "id": "hWwJUpwi2HW3"
   },
   "source": [
    "## Sample QC\n",
    "\n",
    "We'll start with examples of sample QC.\n",
    "\n",
    "Hail has the function [hl.sample_qc](https://hail.is/docs/0.2/methods/genetics.html#hail.methods.sample_qc) to compute a list of useful statistics about samples from sequencing data. This function adds a new column field, `sample_qc`, with the computed statistics.\n",
    "\n",
    "**Click the link** above to see the documentation, which lists the fields and their descriptions."
   ]
  },
  {
   "cell_type": "code",
   "execution_count": 24,
   "metadata": {
    "id": "0WBk7dd22HW3"
   },
   "outputs": [],
   "source": [
    "mt = hl.sample_qc(mt)"
   ]
  },
  {
   "cell_type": "code",
   "execution_count": 25,
   "metadata": {
    "id": "MzMONc3s2HW3"
   },
   "outputs": [
    {
     "data": {
      "application/vnd.jupyter.widget-view+json": {
       "model_id": "55dc3c955a944dda9d1c58e4726d1e7d",
       "version_major": 2,
       "version_minor": 0
      },
      "text/plain": [
       "VBox(children=(HBox(children=(Button(description='globals', layout=Layout(height='30px', width='65px'), style=…"
      ]
     },
     "metadata": {},
     "output_type": "display_data"
    },
    {
     "data": {
      "application/vnd.jupyter.widget-view+json": {
       "model_id": "01ddf3bf36e64cebbd2b3a688817b6b0",
       "version_major": 2,
       "version_minor": 0
      },
      "text/plain": [
       "Tab(children=(VBox(children=(HTML(value='<p><big>Global fields, with one value in the dataset.</big></p>\\n<p>C…"
      ]
     },
     "metadata": {},
     "output_type": "display_data"
    }
   ],
   "source": [
    "mt.describe(widget=True)"
   ]
  },
  {
   "cell_type": "markdown",
   "metadata": {
    "id": "NYOM1xsf2HW3"
   },
   "source": [
    "Let's visualize the distribution of `Mean DP` (`DP` = Read Depth) to `Call Rate`. First, we save the results of sample qc to a Hail Table file so that we can quickly access the results."
   ]
  },
  {
   "cell_type": "code",
   "execution_count": 27,
   "metadata": {},
   "outputs": [
    {
     "name": "stderr",
     "output_type": "stream",
     "text": [
      "2023-09-11 14:33:35.620 Hail: INFO: Coerced sorted dataset\n",
      "2023-09-11 14:33:36.109 Hail: INFO: wrote table with 343 rows in 10 partitions to resources/sample_qc.ht\n"
     ]
    }
   ],
   "source": [
    "mt.cols().select('sample_qc').write(f'resources/sample_qc.ht', overwrite=True)\n",
    "sample_qc = hl.read_table(f'resources/sample_qc.ht')"
   ]
  },
  {
   "cell_type": "code",
   "execution_count": 28,
   "metadata": {
    "id": "YwUfK6O12HW4"
   },
   "outputs": [
    {
     "data": {
      "text/html": [
       "<iframe\n",
       "    scrolling=\"no\"\n",
       "    width=\"100%\"\n",
       "    height=\"545px\"\n",
       "    src=\"iframe_figures/figure_28.html\"\n",
       "    frameborder=\"0\"\n",
       "    allowfullscreen\n",
       "></iframe>\n"
      ]
     },
     "metadata": {},
     "output_type": "display_data"
    }
   ],
   "source": [
    "from hail.ggplot import *\n",
    "\n",
    "import plotly\n",
    "import plotly.io as pio\n",
    "pio.renderers.default='iframe'\n",
    "\n",
    "fig = (\n",
    "    ggplot(\n",
    "        sample_qc,\n",
    "        aes(\n",
    "            x=sample_qc.sample_qc.dp_stats.mean, \n",
    "            y=sample_qc.sample_qc.call_rate, \n",
    "            tooltip=sample_qc.s,\n",
    "            alpha=0.4\n",
    "        )\n",
    "    ) + \n",
    "    geom_point() +\n",
    "    xlab(\"Mean DP\") + \n",
    "    ylab(\"Call Rate\") +\n",
    "    ggtitle(\"DP by Call Rate\")\n",
    ")\n",
    "fig.show()"
   ]
  },
  {
   "cell_type": "markdown",
   "metadata": {
    "id": "1KAEO-tA2HW4"
   },
   "source": [
    "### Filter columns using generated QC statistics"
   ]
  },
  {
   "cell_type": "markdown",
   "metadata": {
    "id": "v8R8r5VH2HW4"
   },
   "source": [
    "Before filtering samples, we should compute a raw sample count:"
   ]
  },
  {
   "cell_type": "code",
   "execution_count": null,
   "metadata": {
    "id": "oTIpDJlc2HW4"
   },
   "outputs": [],
   "source": [
    "mt.count_cols()"
   ]
  },
  {
   "cell_type": "markdown",
   "metadata": {
    "id": "4TUAu11Y2HW4"
   },
   "source": [
    "`filter_cols` removes entire columns from the matrix table. Here, we keep columns (samples) where the `call_rate` is over 95%:"
   ]
  },
  {
   "cell_type": "code",
   "execution_count": null,
   "metadata": {
    "id": "4zX_ynp_2HW5"
   },
   "outputs": [],
   "source": [
    "mt = mt.filter_cols(mt.sample_qc.call_rate >= 0.95)\n"
   ]
  },
  {
   "cell_type": "markdown",
   "metadata": {
    "id": "mxhS1U__2HW5"
   },
   "source": [
    "We can compute a final sample count:"
   ]
  },
  {
   "cell_type": "code",
   "execution_count": null,
   "metadata": {
    "id": "3X4-M3z_2HW5"
   },
   "outputs": [],
   "source": [
    "mt.count_cols()"
   ]
  },
  {
   "cell_type": "markdown",
   "metadata": {},
   "source": [
    "Let's inspect the distribution of sequencing depth across all genotypes."
   ]
  },
  {
   "cell_type": "code",
   "execution_count": null,
   "metadata": {
    "id": "PNFgx9gy2HW5"
   },
   "outputs": [],
   "source": [
    "(\n",
    "    ggplot(\n",
    "        mt,\n",
    "        aes(\n",
    "            x=mt.DP,\n",
    "        )\n",
    "    ) + \n",
    "    geom_histogram(min_val=0, max_val=30, bins=30) +\n",
    "    ggtitle(\"DP\")\n",
    ")"
   ]
  },
  {
   "cell_type": "markdown",
   "metadata": {
    "id": "E0J4vZT32HW6"
   },
   "source": [
    "## Variant QC\n",
    "\n",
    "Hail has the function [hl.variant_qc](https://hail.is/docs/0.2/methods/genetics.html#hail.methods.variant_qc) to compute a list of useful statistics about **variants** from sequencing data.\n",
    "\n",
    "Once again, **Click the link** above to see the documentation!"
   ]
  },
  {
   "cell_type": "code",
   "execution_count": null,
   "metadata": {
    "id": "uA0UIK_X2HW6"
   },
   "outputs": [],
   "source": [
    "mt = hl.variant_qc(mt)"
   ]
  },
  {
   "cell_type": "code",
   "execution_count": null,
   "metadata": {
    "id": "6UfnnMmv2HW6"
   },
   "outputs": [],
   "source": [
    "mt.describe(widget=True)"
   ]
  },
  {
   "cell_type": "markdown",
   "metadata": {
    "id": "EAvIbqGm2HW7"
   },
   "source": [
    "We can `show()` the computed information:"
   ]
  },
  {
   "cell_type": "code",
   "execution_count": null,
   "metadata": {
    "id": "Z9Vc7srL2HW7"
   },
   "outputs": [],
   "source": [
    "mt.variant_qc.show()"
   ]
  },
  {
   "cell_type": "markdown",
   "metadata": {
    "id": "W_tACQea2HW7"
   },
   "source": [
    "Metrics like `call_rate` are important for QC. Let's plot the cumulative density function of call rate per variant:"
   ]
  },
  {
   "cell_type": "code",
   "execution_count": null,
   "metadata": {
    "id": "sfSIBHXN2HW7"
   },
   "outputs": [],
   "source": [
    "mt.filter_rows(hl.agg.call_stats(mt.GT, mt.alleles).AF[1] > 0.01).show()"
   ]
  },
  {
   "cell_type": "code",
   "execution_count": null,
   "metadata": {
    "id": "1RQIsVVa2HW7"
   },
   "outputs": [],
   "source": [
    "(\n",
    "    ggplot(\n",
    "        mt,\n",
    "        aes(x=mt.variant_qc.call_rate)\n",
    "    ) + \n",
    "    geom_density() +\n",
    "    ggtitle(\"Call Rate approximate PDF\")\n",
    ")"
   ]
  },
  {
   "cell_type": "markdown",
   "metadata": {
    "id": "ilegvcon2HW8"
   },
   "source": [
    "Before filtering variants, we should compute a raw variant count:"
   ]
  },
  {
   "cell_type": "code",
   "execution_count": null,
   "metadata": {
    "id": "VG1pmF-Y2HW8"
   },
   "outputs": [],
   "source": [
    "# pre-qc variant count\n",
    "mt.count_rows()"
   ]
  },
  {
   "cell_type": "markdown",
   "metadata": {
    "id": "Za2C5Hne2HW8"
   },
   "source": [
    "`filter_rows` removes entire rows of the matrix table. Here, we keep rows where the `call_rate` is over 95%:"
   ]
  },
  {
   "cell_type": "code",
   "execution_count": null,
   "metadata": {
    "id": "XdNzDjFu2HW8"
   },
   "outputs": [],
   "source": [
    "mt = mt.filter_rows(mt.variant_qc.call_rate > 0.95)"
   ]
  },
  {
   "cell_type": "markdown",
   "metadata": {
    "id": "snZ9idN-2HW8"
   },
   "source": [
    "After filtering, we can see more resolution of the top end of the call rate distribution:"
   ]
  },
  {
   "cell_type": "code",
   "execution_count": null,
   "metadata": {
    "id": "DuwQV5-d2HW8"
   },
   "outputs": [],
   "source": [
    "(\n",
    "    ggplot(\n",
    "        mt,\n",
    "        aes(x=mt.variant_qc.call_rate)\n",
    "    ) + \n",
    "    geom_density() +\n",
    "    ggtitle(\"Call Rate approximate PDF\")\n",
    ")"
   ]
  },
  {
   "cell_type": "markdown",
   "metadata": {
    "id": "KDUOYCa72HW8"
   },
   "source": [
    "We can then compute the final sample and variant count:"
   ]
  },
  {
   "cell_type": "code",
   "execution_count": null,
   "metadata": {
    "id": "NkfTQKpS2HW9"
   },
   "outputs": [],
   "source": [
    "mt.count()"
   ]
  },
  {
   "cell_type": "markdown",
   "metadata": {
    "id": "Dv-7vLht2HW9"
   },
   "source": [
    "# Association Testing and PCA\n",
    "\n",
    "We will first filter to common variants (those with an alternate allele frequency over 1%). GWAS cannot detect signal from extremely rare variants, like those only observed in one individual."
   ]
  },
  {
   "cell_type": "code",
   "execution_count": null,
   "metadata": {
    "id": "HaKq9KNL2HW9"
   },
   "outputs": [],
   "source": [
    "mt = mt.filter_rows(hl.agg.call_stats(mt.GT, mt.alleles).AF[1] > 0.01)"
   ]
  },
  {
   "cell_type": "code",
   "execution_count": null,
   "metadata": {
    "id": "_ramH-Ad2HW9"
   },
   "outputs": [],
   "source": [
    "mt.describe(widget=True)"
   ]
  },
  {
   "cell_type": "markdown",
   "metadata": {
    "id": "2X8RxZql2HW9"
   },
   "source": [
    "Remember that in a GWAS we're running independent association tests on each variant.\n",
    "\n",
    "In Hail, the method we use is [hl.linear_regression_rows](https://hail.is/docs/0.2/methods/stats.html#hail.methods.linear_regression_rows). Why isn't this called `hl.gwas`? Modularity!\n",
    "\n",
    "We use the phenotype `caffeine_consumption` as our dependent variable, the number of alternate alleles as our independent variable, and no covariates besides an intercept term (that's the `1.0`)."
   ]
  },
  {
   "cell_type": "code",
   "execution_count": null,
   "metadata": {
    "id": "mPIho6Hc2HW9"
   },
   "outputs": [],
   "source": [
    "gwas = hl.linear_regression_rows(y=mt.pheno.caffeine_consumption, \n",
    "                                 x=mt.GT.n_alt_alleles(), \n",
    "                                 covariates=[1.0])"
   ]
  },
  {
   "cell_type": "code",
   "execution_count": null,
   "metadata": {
    "id": "z5wSZVTv2HW-"
   },
   "outputs": [],
   "source": [
    "gwas.describe(widget=True)"
   ]
  },
  {
   "cell_type": "markdown",
   "metadata": {
    "id": "hKa20QBY2HW-"
   },
   "source": [
    "## Visualization\n",
    "\n",
    "Let’s visualize our association test results from the linear regression. We can do so by creating 2 common plots: a [Manhattan plot](https://en.wikipedia.org/wiki/Manhattan_plot) and a [Q-Q plot](https://en.wikipedia.org/wiki/Q%E2%80%93Q_plot).\n",
    "\n",
    "We'll start with the Manhattan plot:"
   ]
  },
  {
   "cell_type": "code",
   "execution_count": null,
   "metadata": {},
   "outputs": [],
   "source": [
    "gwas.write(f'results/gwas.ht')\n",
    "gwas = hl.read_table(f'results/gwas.ht')"
   ]
  },
  {
   "cell_type": "code",
   "execution_count": null,
   "metadata": {
    "id": "H3prkphj2HW-"
   },
   "outputs": [],
   "source": [
    "tooltip = hl.str(gwas.locus) + \"; \" + hl.str(gwas.p_value)\n",
    "\n",
    "(\n",
    "    ggplot(gwas, aes(x=gwas.locus, tooltip=tooltip)) + \n",
    "    geom_point(aes(y=-hl.log10(gwas.p_value),\n",
    "                   color=gwas.locus.contig_idx%2)) + \n",
    "    geom_hline(yintercept=7.3, color='red')\n",
    ")"
   ]
  },
  {
   "cell_type": "markdown",
   "metadata": {
    "id": "0BrHMk-R2HW-"
   },
   "source": [
    "The other common plot is the Q-Q (quantile-quantile) plot."
   ]
  },
  {
   "cell_type": "code",
   "execution_count": null,
   "metadata": {
    "id": "7enzXR__2HW_"
   },
   "outputs": [],
   "source": [
    "n_tests = gwas.count()\n",
    "\n",
    "ht = gwas.key_by(gwas.p_value).add_index()\n",
    "\n",
    "(\n",
    "    ggplot(\n",
    "        ht,\n",
    "        aes(\n",
    "            x=-hl.log10(ht.idx/n_tests),\n",
    "        )\n",
    "    ) + \n",
    "    geom_point(aes(y=-hl.log10(ht.p_value))) +\n",
    "    geom_line(aes(y=-hl.log10(ht.idx/n_tests)),\n",
    "              color=\"red\") +\n",
    "    xlab(\"Expected\") + \n",
    "    ylab(\"Observed\") +\n",
    "    ggtitle(\"QQ Plot\")\n",
    ")"
   ]
  },
  {
   "cell_type": "markdown",
   "metadata": {
    "id": "SIfjN3ov2HW_"
   },
   "source": [
    "## Confounded!\n",
    "\n",
    "The Q-Q plot indicates **extreme** inflation of p-values.\n",
    "\n",
    "What do you think is a good range for genomic inflation?"
   ]
  },
  {
   "cell_type": "markdown",
   "metadata": {
    "id": "H3TcPo9s2HW_"
   },
   "source": [
    "If you've done a GWAS before, you've probably included a few other covariates that might be confounders -- age, sex, and principal components.\n",
    "\n",
    "Principal components are a measure of genetic ancestry, and can be used to control for [population stratification](https://en.wikipedia.org/wiki/Population_stratification).\n",
    "\n",
    "Principal component analysis (PCA) is a very general statistical method for reducing high dimensional data to a small number of dimensions which capture most of the variation in the data. Hail has the function [pca](https://hail.is/docs/0.2/methods/stats.html#hail.methods.pca) for performing generic PCA.\n",
    "\n",
    "PCA typically works best on normalized data (e.g. mean centered). Hail provides the specialized function [hwe_normalized_pca](https://hail.is/docs/0.2/methods/genetics.html#hail.methods.hwe_normalized_pca) which first normalizes the genotypes according to the Hardy-Weinberg Equilibium model."
   ]
  },
  {
   "cell_type": "code",
   "execution_count": null,
   "metadata": {
    "id": "8J-bzKfO2HW_"
   },
   "outputs": [],
   "source": [
    "pca_eigenvalues, pca_scores, pca_loadings = hl.hwe_normalized_pca(mt.GT, compute_loadings=True)"
   ]
  },
  {
   "cell_type": "markdown",
   "metadata": {
    "id": "GwTFpfsq2HXA"
   },
   "source": [
    "The pca function returns three things:\n",
    "* **eigenvalues**: an array of doubles\n",
    "* **scores**: a table keyed by sample\n",
    "* **loadings**: a table keyed by variant\n",
    "\n",
    "The **loadings** are the *principal directions*, each of which is a weighted sum of variants (a \"virtual variant\"). By default, `hwe_normalized_pca` gives us 10 principal directions."
   ]
  },
  {
   "cell_type": "code",
   "execution_count": null,
   "metadata": {
    "id": "oMpW8kOY2HXA"
   },
   "outputs": [],
   "source": [
    "mt = mt.annotate_cols(pca = pca_scores[mt.s])"
   ]
  },
  {
   "cell_type": "markdown",
   "metadata": {
    "id": "o-IAiakI2HXA"
   },
   "source": [
    "## Control confounders and run another GWAS\n",
    "\n",
    "Now that we have computed principal components and saved it into our `mt`, let’s attempt to adjust the inflation that we saw in our initial Q-Q plot e.g.  `mt.pheno.is_female`. We will now add PCs as `covariates` in `linear_regression_rows`:\n"
   ]
  },
  {
   "cell_type": "code",
   "execution_count": null,
   "metadata": {
    "id": "95ZqEZfN2HXA"
   },
   "outputs": [],
   "source": [
    "gwas = hl.linear_regression_rows(\n",
    "    y=mt.pheno.caffeine_consumption, \n",
    "    x=mt.GT.n_alt_alleles(),\n",
    "    covariates=[1.0, mt.pca.scores[0], mt.pca.scores[1], mt.pca.scores[2]])"
   ]
  },
  {
   "cell_type": "code",
   "execution_count": null,
   "metadata": {
    "id": "M6io53Vv2HXB"
   },
   "outputs": [],
   "source": [
    "n_tests = gwas.count()\n",
    "\n",
    "ht = gwas.key_by(gwas.p_value).add_index()\n",
    "\n",
    "(\n",
    "    ggplot(\n",
    "        ht,\n",
    "        aes(\n",
    "            x=-hl.log10(ht.idx/n_tests),\n",
    "        )\n",
    "    ) + \n",
    "    geom_point(aes(y=-hl.log10(ht.p_value))) +\n",
    "    geom_line(aes(y=-hl.log10(ht.idx/n_tests)),\n",
    "              color=\"red\") +\n",
    "    xlab(\"Expected\") + \n",
    "    ylab(\"Observed\") +\n",
    "    ggtitle(\"QQ Plot\")\n",
    ")"
   ]
  },
  {
   "cell_type": "markdown",
   "metadata": {
    "id": "KwBXXhTX2HXB"
   },
   "source": [
    "The above Q-Q plot indicates much better (but not good!) genomic control. Let's try the Manhattan plot:"
   ]
  },
  {
   "cell_type": "code",
   "execution_count": null,
   "metadata": {
    "id": "y6U71wE-2HXB"
   },
   "outputs": [],
   "source": [
    "tooltip = hl.str(gwas.locus) + \"; \" + hl.str(gwas.p_value)\n",
    "\n",
    "(\n",
    "    ggplot(gwas, aes(x=gwas.locus, tooltip=tooltip)) + \n",
    "    geom_point(aes(y=-hl.log10(gwas.p_value),\n",
    "                   color=gwas.locus.contig_idx%2)) + \n",
    "    geom_hline(yintercept=7.3, color='red')\n",
    ")"
   ]
  },
  {
   "cell_type": "markdown",
   "metadata": {
    "id": "uAuHSrMq2HXB"
   },
   "source": [
    "### What other covariates can you think off that could possibly clean up this analysis?\n",
    "\n",
    "#### Zoom Breakout rooms Activity\n",
    "\n",
    "We will assign you into TWO breakout rooms. \n",
    "\n",
    "**Team/Room _Purple Hair_**\n",
    "\n",
    "Create a model with **purple hair** as the outcome\n",
    "\n",
    "\n",
    "**Team/Room _Polydactylism_**\n",
    "\n",
    "Create a model with **six toes** as the outcome\n",
    "\n",
    "Your assignment would be to :\n",
    "\n",
    "1) What is the distribution of people who have the phenotype? A simple list with do from `count()` or `show()`! \n",
    "\n",
    "2) Create a logistic model with the given phenotype outcome using [Hail documentation](https://hail.is/docs/0.2/methods/stats.html#hail.methods.logistic_regression_rows). Use the search function at the top of the documentation page if you need more information!  \n",
    "\n",
    "3) Print QQ plot\n",
    "\n",
    "4) Print Manhattan plot"
   ]
  },
  {
   "cell_type": "markdown",
   "metadata": {
    "id": "6vntYG1s2HXB"
   },
   "source": [
    "# Write QC'ed final dataset to disk"
   ]
  },
  {
   "cell_type": "code",
   "execution_count": null,
   "metadata": {
    "id": "BmUYH3J52HXC"
   },
   "outputs": [],
   "source": [
    "mt.write('output/post_qc.mt', overwrite=True)"
   ]
  }
 ],
 "metadata": {
  "anaconda-cloud": {},
  "colab": {
   "provenance": []
  },
  "kernelspec": {
   "display_name": "Python 3 (ipykernel)",
   "language": "python",
   "name": "python3"
  },
  "language_info": {
   "codemirror_mode": {
    "name": "ipython",
    "version": 3
   },
   "file_extension": ".py",
   "mimetype": "text/x-python",
   "name": "python",
   "nbconvert_exporter": "python",
   "pygments_lexer": "ipython3",
   "version": "3.9.13"
  },
  "toc": {
   "base_numbering": 1,
   "nav_menu": {
    "height": "242px",
    "width": "283px"
   },
   "number_sections": true,
   "sideBar": true,
   "skip_h1_title": false,
   "title_cell": "Table of Contents",
   "title_sidebar": "Contents",
   "toc_cell": false,
   "toc_position": {},
   "toc_section_display": true,
   "toc_window_display": false
  }
 },
 "nbformat": 4,
 "nbformat_minor": 4
}
